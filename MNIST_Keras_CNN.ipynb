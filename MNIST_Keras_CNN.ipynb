{
  "nbformat": 4,
  "nbformat_minor": 0,
  "metadata": {
    "colab": {
      "name": "MNIST-Keras-CNN.ipynb",
      "version": "0.3.2",
      "provenance": [],
      "include_colab_link": true
    },
    "kernelspec": {
      "display_name": "Python 3",
      "language": "python",
      "name": "python3"
    }
  },
  "cells": [
    {
      "cell_type": "markdown",
      "metadata": {
        "id": "view-in-github",
        "colab_type": "text"
      },
      "source": [
        "[View in Colaboratory](https://colab.research.google.com/github/zezzer/machine-learning-portfolio/blob/master/MNIST_Keras_CNN.ipynb)"
      ]
    },
    {
      "metadata": {
        "id": "dDdZfYjHBSSy",
        "colab_type": "code",
        "colab": {}
      },
      "cell_type": "code",
      "source": [
        "import keras\n",
        "from keras import Sequential\n",
        "from keras.layers import Conv2D, MaxPooling2D, Dense, Flatten, Dropout\n",
        "from keras.datasets import mnist\n",
        "import numpy as np\n",
        "\n",
        "%matplotlib inline"
      ],
      "execution_count": 0,
      "outputs": []
    },
    {
      "metadata": {
        "id": "V5f4j1j7BSS0",
        "colab_type": "code",
        "colab": {}
      },
      "cell_type": "code",
      "source": [
        "# PARAMETERS\n",
        "img_width = 28\n",
        "img_height = 28\n",
        "batch_size = 100\n",
        "epochs = 15\n",
        "seed = 1\n",
        "ratio_train = 0.8"
      ],
      "execution_count": 0,
      "outputs": []
    },
    {
      "metadata": {
        "id": "iTowANJUBSS4",
        "colab_type": "code",
        "colab": {}
      },
      "cell_type": "code",
      "source": [
        "np.random.seed(seed) # for reproducibility"
      ],
      "execution_count": 0,
      "outputs": []
    },
    {
      "metadata": {
        "id": "PgvLzdOhBSS8",
        "colab_type": "code",
        "colab": {
          "base_uri": "https://localhost:8080/",
          "height": 68
        },
        "outputId": "3a64b158-fe23-4551-9925-759a191b804f"
      },
      "cell_type": "code",
      "source": [
        "# Read in image and label data\n",
        "(train_images, train_labels), (test_images, test_labels) = mnist.load_data()\n",
        "\n",
        "\n",
        "# Partition into validation and training sets\n",
        "val_images = train_images[int(ratio_train*len(train_images)):]\n",
        "val_labels = train_labels[int(ratio_train*len(train_labels)):]\n",
        "train_images = train_images[:int(ratio_train*len(train_images))]\n",
        "train_labels = train_labels[:int(ratio_train*len(train_labels))]\n",
        "\n",
        "# Reshape\n",
        "train_images = train_images.reshape(train_images.shape[0], img_width, img_height, 1).astype('float32')\n",
        "val_images = val_images.reshape(val_images.shape[0], img_width, img_height, 1).astype('float32')\n",
        "test_images = test_images.reshape(test_images.shape[0], img_width, img_height, 1).astype('float32')\n",
        "\n",
        "# Normalize the data\n",
        "train_images = train_images/255.0\n",
        "val_images = val_images/255.0\n",
        "test_images = test_images/255.0\n",
        "\n",
        "# One hot encode the labels for multi-class classification, for expressive data representation\n",
        "train_labels = keras.utils.to_categorical(train_labels)\n",
        "val_labels = keras.utils.to_categorical(val_labels)\n",
        "test_labels = keras.utils.to_categorical(test_labels)\n",
        "\n",
        "print(train_images.shape)\n",
        "print(val_images.shape)\n",
        "print(test_images.shape)"
      ],
      "execution_count": 14,
      "outputs": [
        {
          "output_type": "stream",
          "text": [
            "(48000, 28, 28, 1)\n",
            "(12000, 28, 28, 1)\n",
            "(10000, 28, 28, 1)\n"
          ],
          "name": "stdout"
        }
      ]
    },
    {
      "metadata": {
        "id": "l44Cw-ldBSTL",
        "colab_type": "code",
        "colab": {}
      },
      "cell_type": "code",
      "source": [
        "model = Sequential()\n",
        "\n",
        "# General notes (applying miscellaneous tips garnered from reading Stanford CS231n notes):\n",
        "# Keep convolutional filter sizes small & stack convolutional layers for more expressive features.\n",
        "# Padding is added to the Conv2D layers for clean design, so only MaxPooling is in charge of downsampling.\n",
        "# Relu activation is used for efficient computations.\n",
        "# Dropout is used to reduce interdependence between neurons.\n",
        "\n",
        "model.add(Conv2D(32, kernel_size=(3,3), padding='same',\n",
        "                activation='relu',\n",
        "                input_shape=(img_width, img_height, 1)))\n",
        "model.add(Conv2D(32, kernel_size=(3,3), padding='same',\n",
        "                activation='relu'))\n",
        "model.add(MaxPooling2D(pool_size=(2,2), strides=2))\n",
        "model.add(Dropout(0.25))\n",
        "\n",
        "model.add(Conv2D(64, kernel_size=(3,3), padding='same',\n",
        "                activation='relu'))\n",
        "model.add(Conv2D(64, kernel_size=(3,3), padding='same',\n",
        "                activation='relu'))\n",
        "model.add(MaxPooling2D(pool_size=(2,2), strides=2))\n",
        "model.add(Dropout(0.25))\n",
        "\n",
        "model.add(Conv2D(128, kernel_size=(3,3), padding='same',\n",
        "                activation='relu'))\n",
        "model.add(MaxPooling2D(pool_size=(2,2), strides=2))\n",
        "\n",
        "# Fully connected layers that use extracted features for classification\n",
        "model.add(Flatten())\n",
        "model.add(Dropout(0.5))\n",
        "model.add(Dense(100, activation='relu'))\n",
        "model.add(Dropout(0.5))\n",
        "model.add(Dense(10, activation='softmax'))"
      ],
      "execution_count": 0,
      "outputs": []
    },
    {
      "metadata": {
        "id": "zxJU51VnBSTN",
        "colab_type": "code",
        "colab": {
          "base_uri": "https://localhost:8080/",
          "height": 646
        },
        "outputId": "5543a799-e44c-4d68-fbf7-fa5df9285108"
      },
      "cell_type": "code",
      "source": [
        "model.summary()"
      ],
      "execution_count": 16,
      "outputs": [
        {
          "output_type": "stream",
          "text": [
            "_________________________________________________________________\n",
            "Layer (type)                 Output Shape              Param #   \n",
            "=================================================================\n",
            "conv2d_6 (Conv2D)            (None, 28, 28, 32)        320       \n",
            "_________________________________________________________________\n",
            "conv2d_7 (Conv2D)            (None, 28, 28, 32)        9248      \n",
            "_________________________________________________________________\n",
            "max_pooling2d_4 (MaxPooling2 (None, 14, 14, 32)        0         \n",
            "_________________________________________________________________\n",
            "dropout_5 (Dropout)          (None, 14, 14, 32)        0         \n",
            "_________________________________________________________________\n",
            "conv2d_8 (Conv2D)            (None, 14, 14, 64)        18496     \n",
            "_________________________________________________________________\n",
            "conv2d_9 (Conv2D)            (None, 14, 14, 64)        36928     \n",
            "_________________________________________________________________\n",
            "max_pooling2d_5 (MaxPooling2 (None, 7, 7, 64)          0         \n",
            "_________________________________________________________________\n",
            "dropout_6 (Dropout)          (None, 7, 7, 64)          0         \n",
            "_________________________________________________________________\n",
            "conv2d_10 (Conv2D)           (None, 7, 7, 128)         73856     \n",
            "_________________________________________________________________\n",
            "max_pooling2d_6 (MaxPooling2 (None, 3, 3, 128)         0         \n",
            "_________________________________________________________________\n",
            "flatten_2 (Flatten)          (None, 1152)              0         \n",
            "_________________________________________________________________\n",
            "dropout_7 (Dropout)          (None, 1152)              0         \n",
            "_________________________________________________________________\n",
            "dense_3 (Dense)              (None, 100)               115300    \n",
            "_________________________________________________________________\n",
            "dropout_8 (Dropout)          (None, 100)               0         \n",
            "_________________________________________________________________\n",
            "dense_4 (Dense)              (None, 10)                1010      \n",
            "=================================================================\n",
            "Total params: 255,158\n",
            "Trainable params: 255,158\n",
            "Non-trainable params: 0\n",
            "_________________________________________________________________\n"
          ],
          "name": "stdout"
        }
      ]
    },
    {
      "metadata": {
        "id": "BKnq3CcMBSTW",
        "colab_type": "code",
        "colab": {}
      },
      "cell_type": "code",
      "source": [
        "model.compile(loss=keras.losses.categorical_crossentropy,\n",
        "              optimizer='adam',\n",
        "              metrics=['accuracy'])"
      ],
      "execution_count": 0,
      "outputs": []
    },
    {
      "metadata": {
        "id": "ojRywjMyBSTZ",
        "colab_type": "code",
        "colab": {
          "base_uri": "https://localhost:8080/",
          "height": 544
        },
        "outputId": "102c1def-57e4-487f-e8e4-0bd6eb305045"
      },
      "cell_type": "code",
      "source": [
        "history = model.fit(train_images, train_labels,\n",
        "          batch_size=batch_size,\n",
        "          epochs=epochs,\n",
        "          verbose=1,\n",
        "          validation_data=(val_images, val_labels), \n",
        "          shuffle = True)"
      ],
      "execution_count": 18,
      "outputs": [
        {
          "output_type": "stream",
          "text": [
            "Train on 48000 samples, validate on 12000 samples\n",
            "Epoch 1/15\n",
            "48000/48000 [==============================] - 252s 5ms/step - loss: 0.4415 - acc: 0.8540 - val_loss: 0.0808 - val_acc: 0.9750\n",
            "Epoch 2/15\n",
            "48000/48000 [==============================] - 251s 5ms/step - loss: 0.1210 - acc: 0.9643 - val_loss: 0.0425 - val_acc: 0.9882\n",
            "Epoch 3/15\n",
            "48000/48000 [==============================] - 251s 5ms/step - loss: 0.0903 - acc: 0.9746 - val_loss: 0.0341 - val_acc: 0.9908\n",
            "Epoch 4/15\n",
            "48000/48000 [==============================] - 250s 5ms/step - loss: 0.0737 - acc: 0.9789 - val_loss: 0.0348 - val_acc: 0.9901\n",
            "Epoch 5/15\n",
            "48000/48000 [==============================] - 249s 5ms/step - loss: 0.0650 - acc: 0.9810 - val_loss: 0.0350 - val_acc: 0.9896\n",
            "Epoch 6/15\n",
            "48000/48000 [==============================] - 248s 5ms/step - loss: 0.0554 - acc: 0.9836 - val_loss: 0.0368 - val_acc: 0.9895\n",
            "Epoch 7/15\n",
            "48000/48000 [==============================] - 249s 5ms/step - loss: 0.0515 - acc: 0.9852 - val_loss: 0.0271 - val_acc: 0.9918\n",
            "Epoch 8/15\n",
            "48000/48000 [==============================] - 251s 5ms/step - loss: 0.0484 - acc: 0.9855 - val_loss: 0.0288 - val_acc: 0.9925\n",
            "Epoch 9/15\n",
            "48000/48000 [==============================] - 247s 5ms/step - loss: 0.0442 - acc: 0.9871 - val_loss: 0.0254 - val_acc: 0.9929\n",
            "Epoch 10/15\n",
            "48000/48000 [==============================] - 244s 5ms/step - loss: 0.0413 - acc: 0.9882 - val_loss: 0.0221 - val_acc: 0.9944\n",
            "Epoch 11/15\n",
            "48000/48000 [==============================] - 248s 5ms/step - loss: 0.0383 - acc: 0.9891 - val_loss: 0.0230 - val_acc: 0.9942\n",
            "Epoch 12/15\n",
            "48000/48000 [==============================] - 250s 5ms/step - loss: 0.0397 - acc: 0.9889 - val_loss: 0.0258 - val_acc: 0.9933\n",
            "Epoch 13/15\n",
            "48000/48000 [==============================] - 247s 5ms/step - loss: 0.0376 - acc: 0.9884 - val_loss: 0.0268 - val_acc: 0.9935\n",
            "Epoch 14/15\n",
            "48000/48000 [==============================] - 246s 5ms/step - loss: 0.0345 - acc: 0.9901 - val_loss: 0.0215 - val_acc: 0.9940\n",
            "Epoch 15/15\n",
            "48000/48000 [==============================] - 246s 5ms/step - loss: 0.0365 - acc: 0.9896 - val_loss: 0.0257 - val_acc: 0.9932\n"
          ],
          "name": "stdout"
        }
      ]
    },
    {
      "metadata": {
        "id": "bDJIGVewBSTc",
        "colab_type": "code",
        "colab": {}
      },
      "cell_type": "code",
      "source": [
        "score = model.evaluate(test_images, test_labels, verbose=0)"
      ],
      "execution_count": 0,
      "outputs": []
    },
    {
      "metadata": {
        "id": "w_ox_647BSTe",
        "colab_type": "code",
        "colab": {
          "base_uri": "https://localhost:8080/",
          "height": 34
        },
        "outputId": "1c01769c-7113-4244-ac10-ccdbc20c360f"
      },
      "cell_type": "code",
      "source": [
        "print(score)"
      ],
      "execution_count": 22,
      "outputs": [
        {
          "output_type": "stream",
          "text": [
            "[0.01892832144598851, 0.9943]\n"
          ],
          "name": "stdout"
        }
      ]
    }
  ]
}